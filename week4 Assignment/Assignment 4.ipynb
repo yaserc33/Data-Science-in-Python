{
 "cells": [
  {
   "cell_type": "markdown",
   "id": "4488b796",
   "metadata": {},
   "source": [
    "# Assignment 4\n",
    "## Description\n",
    "In this assignment you must read in a file of metropolitan regions and associated sports teams from [assets/wikipedia_data.html](assets/wikipedia_data.html) and answer some questions about each metropolitan region. Each of these regions may have one or more teams from the \"Big 4\": NFL (football, in [assets/nfl.csv](assets/nfl.csv)), MLB (baseball, in [assets/mlb.csv](assets/mlb.csv)), NBA (basketball, in [assets/nba.csv](assets/nba.csv) or NHL (hockey, in [assets/nhl.csv](assets/nhl.csv)). Please keep in mind that all questions are from the perspective of the metropolitan region, and that this file is the \"source of authority\" for the location of a given sports team. Thus teams which are commonly known by a different area (e.g. \"Oakland Raiders\") need to be mapped into the metropolitan region given (e.g. San Francisco Bay Area). This will require some human data understanding outside of the data you've been given (e.g. you will have to hand-code some names, and might need to google to find out where teams are)!\n",
    "\n",
    "For each sport I would like you to answer the question: **what is the win/loss ratio's correlation with the population of the city it is in?** Win/Loss ratio refers to the number of wins over the number of wins plus the number of losses. Remember that to calculate the correlation with [`pearsonr`](https://docs.scipy.org/doc/scipy/reference/generated/scipy.stats.pearsonr.html), so you are going to send in two ordered lists of values, the populations from the wikipedia_data.html file and the win/loss ratio for a given sport in the same order. Average the win/loss ratios for those cities which have multiple teams of a single sport. Each sport is worth an equal amount in this assignment (20%\\*4=80%) of the grade for this assignment. You should only use data **from year 2018** for your analysis -- this is important!\n",
    "\n",
    "## Notes\n",
    "\n",
    "1. Do not include data about the MLS or CFL in any of the work you are doing, we're only interested in the Big 4 in this assignment.\n",
    "2. I highly suggest that you first tackle the four correlation questions in order, as they are all similar and worth the majority of grades for this assignment. This is by design!\n",
    "3. It's fair game to talk with peers about high level strategy as well as the relationship between metropolitan areas and sports teams. However, do not post code solving aspects of the assignment (including such as dictionaries mapping areas to teams, or regexes which will clean up names).\n",
    "4. There may be more teams than the assert statements test, remember to collapse multiple teams in one city into a single value!"
   ]
  },
  {
   "cell_type": "markdown",
   "id": "3e01bed7",
   "metadata": {},
   "source": [
    "\n",
    "## Question 1\n",
    "For this question, calculate the win/loss ratio's correlation with the population of the city it is in for the **NHL** using **2018** data."
   ]
  },
  {
   "cell_type": "code",
   "execution_count": 267,
   "id": "bf75a142",
   "metadata": {},
   "outputs": [],
   "source": [
    "def nhl_correlation(): \n",
    "    import pandas as pd\n",
    "    import numpy as np\n",
    "    import scipy.stats as stats\n",
    "    import re\n",
    "    nhl_df=pd.read_csv(\"assets/nhl.csv\")\n",
    "    cities=pd.read_html(\"assets/wikipedia_data.html\")[1]\n",
    "    cities=cities.iloc[:-1,[0,3,8]]\n",
    "    \n",
    "    \n",
    "    # cleaning cities \n",
    "    cities[\"NHL\"] = cities[\"NHL\"].apply(lambda a: re.sub(r\"\\[.+\\]\", \"\", a))\n",
    "    cities[\"NHL\"] = cities[\"NHL\"].replace({\"RangersIslandersDevils\": \"Rangers,Islanders,Devils\",\n",
    "                                           \"KingsDucks\": \"Kings,Ducks\",\n",
    "                                           \"Red Wings\": \"Red,Wings\", \n",
    "                                           \"Maple Leafs\": \"Maple,Leafs\", \n",
    "                                           \"Blue Jackets\": \"Blue,Jackets\",\n",
    "                                           \"Golden Knights\": \"Golden,Knights\" })\n",
    "    cities[\"NHL\"] = cities[\"NHL\"].apply(lambda a: a.split(\",\"))\n",
    "    cities = cities.explode(\"NHL\")\n",
    "\n",
    "    \n",
    "    \n",
    "    #cleaning nhl\n",
    "    nhl_df = nhl_df[nhl_df[\"year\"] == 2018]\n",
    "    nhl_df[\"team\"] = nhl_df[\"team\"].apply(lambda a: a.replace(\"*\", \"\"))\n",
    "    nhl_df[\"team\"] = nhl_df[\"team\"].apply(lambda a: a.split(\" \")[-1])\n",
    "\n",
    "    \n",
    "    \n",
    "    #merge\n",
    "    df = pd.merge(cities, nhl_df, left_on=\"NHL\", right_on=\"team\")\n",
    "    df = df[[\"Metropolitan area\", \"Population (2016 est.)[8]\", \"NHL\", \"team\", \"W\", \"L\"]]\n",
    "    df[\"W-L%\"] = df[\"W\"].astype(\"int\")/(df[\"W\"].astype(\"int\") + df[\"L\"].astype(\"int\"))\n",
    "    df[\"Population\"] = df[\"Population (2016 est.)[8]\"].astype(\"float\")\n",
    "    df[\"WL\"] = df[\"W-L%\"].astype(\"float\")\n",
    "\n",
    "    #reapeted columns\n",
    "    df.loc[df[\"Metropolitan area\"] == \"Los Angeles\", \"WL\"] = 0.6228945 #avg(LA W L)\n",
    "    df.loc[df[\"Metropolitan area\"] == \"New York City\", \"WL\"] = 0.5182013333333334 #avg(NY W L)\n",
    "    df = (df.drop_duplicates(subset=\"Metropolitan area\")\n",
    "          .reset_index()\n",
    "          .drop(columns=\"index\"))\n",
    "\n",
    "    population_by_region,win_loss_by_region = df[\"Population\"],df[\"WL\"]\n",
    "    \n",
    "    \n",
    "    assert len(population_by_region) == len(win_loss_by_region), \"Q1: Your lists must be the same length\"\n",
    "    assert len(population_by_region) == 28, \"Q1: There should be 28 teams being analysed for NHL\"\n",
    "    \n",
    "    return stats.pearsonr(population_by_region, win_loss_by_region)[0]\n"
   ]
  },
  {
   "cell_type": "code",
   "execution_count": 268,
   "id": "61b48878",
   "metadata": {},
   "outputs": [
    {
     "data": {
      "text/plain": [
       "0.012485959345532906"
      ]
     },
     "execution_count": 268,
     "metadata": {},
     "output_type": "execute_result"
    }
   ],
   "source": [
    "nhl_correlation()"
   ]
  },
  {
   "cell_type": "markdown",
   "id": "185efd61",
   "metadata": {},
   "source": [
    "## Question 2\n",
    "For this question, calculate the win/loss ratio's correlation with the population of the city it is in for the **NBA** using **2018** data."
   ]
  },
  {
   "cell_type": "code",
   "execution_count": 265,
   "id": "56f8d8c3",
   "metadata": {},
   "outputs": [],
   "source": [
    "def nba_correlation(): \n",
    "    import pandas as pd\n",
    "    import numpy as np\n",
    "    import scipy.stats as stats\n",
    "    import re\n",
    "    nba_df=pd.read_csv(\"assets/nba.csv\")\n",
    "    cities=pd.read_html(\"assets/wikipedia_data.html\")[1]\n",
    "    cities=cities.iloc[:-1,[0,3,7]]\n",
    "    \n",
    "    # cleaning cities \n",
    "    cities[\"NBA\"] = cities[\"NBA\"].apply(lambda a: re.sub(r\"\\[.+\\]\", \"\", a))\n",
    "    cities[\"NBA\"] = cities[\"NBA\"].replace({\"KnicksNets\": \"Knicks,Nets\",\n",
    "                                           \"LakersClippers\": \"Lakers,Clippers\",\n",
    "                                           \"Trail Blazers\": \"Trail,Blazers\" })\n",
    "    cities[\"NBA\"] = cities[\"NBA\"].apply(lambda a: a.split(\",\"))\n",
    "    cities = cities.explode(\"NBA\")\n",
    "\n",
    "    \n",
    "    \n",
    "    #cleaning nhl\n",
    "    nba_df = nba_df[nba_df[\"year\"] == 2018]\n",
    "    nba_df[\"team\"] = nba_df[\"team\"].apply(lambda a: re.sub(r\"(\\*)*\\s\\(\\d+\\)\", \"\", a))\n",
    "    nba_df[\"team\"] = nba_df[\"team\"].apply(lambda a: a.split(\" \")[-1])\n",
    "\n",
    "    \n",
    "    \n",
    "    #merge\n",
    "    df = pd.merge(cities, nba_df, left_on=\"NBA\", right_on=\"team\")\n",
    "    df = df[[\"Metropolitan area\", \"Population (2016 est.)[8]\", \"NBA\", \"team\", \"W\", \"L\", \"W/L%\"]]\n",
    "    df[\"W/L%\"] = df[\"W\"].astype(\"int\")/(df[\"W\"].astype(\"int\") + df[\"L\"].astype(\"int\"))\n",
    "    df[\"Population\"] = df[\"Population (2016 est.)[8]\"].astype(\"float\")\n",
    "    df[\"WL\"] = df[\"W/L%\"].astype(\"float\")\n",
    "\n",
    "    #reapeted columns\n",
    "    df.loc[df[\"Metropolitan area\"] == \"Los Angeles\", \"WL\"] = 0.46950000000000003 #avg(LA W L)\n",
    "    df.loc[df[\"Metropolitan area\"] == \"New York City\", \"WL\"] =0.34750000000000003  #avg(NY W L)\n",
    "    df = (df.drop_duplicates(subset=\"Metropolitan area\")\n",
    "          .reset_index()\n",
    "          .drop(columns=\"index\"))\n",
    "\n",
    "    population_by_region,win_loss_by_region = df[\"Population\"],df[\"WL\"]\n",
    "    \n",
    "    \n",
    "    assert len(population_by_region) == len(win_loss_by_region), \"Q1: Your lists must be the same length\"\n",
    "    assert len(population_by_region) == 28, \"Q1: There should be 28 teams being analysed for NHL\"\n",
    "    return stats.pearsonr(population_by_region, win_loss_by_region)[0]\n"
   ]
  },
  {
   "cell_type": "code",
   "execution_count": 266,
   "id": "dfc12075",
   "metadata": {},
   "outputs": [
    {
     "data": {
      "text/plain": [
       "-0.17663017406199585"
      ]
     },
     "execution_count": 266,
     "metadata": {},
     "output_type": "execute_result"
    }
   ],
   "source": [
    "nba_correlation()"
   ]
  },
  {
   "cell_type": "markdown",
   "id": "9f625893",
   "metadata": {},
   "source": [
    "## Question 3\n",
    "For this question, calculate the win/loss ratio's correlation with the population of the city it is in for the **MLB** using **2018** data."
   ]
  },
  {
   "cell_type": "code",
   "execution_count": 263,
   "id": "b5eba2b9",
   "metadata": {},
   "outputs": [],
   "source": [
    "def mlb_correlation(): \n",
    "    import pandas as pd\n",
    "    import numpy as np\n",
    "    import scipy.stats as stats\n",
    "    import re\n",
    "    mlb_df=pd.read_csv(\"assets/mlb.csv\")\n",
    "    cities=pd.read_html(\"assets/wikipedia_data.html\")[1]\n",
    "    cities=cities.iloc[:-1,[0,3,6]]\n",
    "    \n",
    "    # cleaning cities \n",
    "    cities[\"MLB\"] = cities[\"MLB\"].apply(lambda a: re.sub(r\"\\[.+\\]\", \"\", a))\n",
    "    cities[\"MLB\"] = cities[\"MLB\"].replace({\"Blue Jays\": \"Blue,Jays\", \n",
    "                                           \"CubsWhite Sox\": \"Cubs,White,Sox\", \n",
    "                                           \"DodgersAngels\": \"Dodgers,Angels\", \n",
    "                                           \"GiantsAthletics\": \"Giants,Athletics\", \n",
    "                                           \"YankeesMets\": \"Yankees,Mets\",\n",
    "                                           \"Red Sox\": \"Red,Sox\"})\n",
    "    cities[\"MLB\"] = cities[\"MLB\"].apply(lambda a: a.split(\",\"))\n",
    "    cities = cities.explode(\"MLB\")\n",
    "\n",
    "    \n",
    "    \n",
    "    #cleaning nhl\n",
    "    mlb_df = mlb_df[mlb_df[\"year\"] == 2018]\n",
    "    mlb_df[\"team\"] = mlb_df[\"team\"].apply(lambda a: a.split(\" \")[-1])\n",
    "\n",
    "    \n",
    "    \n",
    "    #merge\n",
    "    df = pd.merge(cities, mlb_df, left_on=\"MLB\", right_on=\"team\")\n",
    "    df = df[[\"Metropolitan area\", \"Population (2016 est.)[8]\", \"MLB\", \"team\", \"W\", \"L\", \"W-L%\"]]\n",
    "    df[\"Population\"] = df[\"Population (2016 est.)[8]\"].astype(\"float\")\n",
    "    df[\"WL\"] = df[\"W-L%\"].astype(\"float\")\n",
    "\n",
    "    #reapeted columns\n",
    "    df.loc[df[\"Metropolitan area\"] == \"New York City\", \"WL\"] = 0.546 \n",
    "    df.loc[df[\"Metropolitan area\"] == \"Los Angeles\", \"WL\"] = 0.5289999999999999 \n",
    "    df.loc[df[\"Metropolitan area\"] == \"San Francisco Bay Area\", \"WL\"] = 0.525 \n",
    "    df.loc[df[\"Metropolitan area\"] == \"Chicago\", \"WL\"] = 0.482769 \n",
    "    df.loc[df[\"Metropolitan area\"] == \"Boston\", \"WL\"] = 0.666667 \n",
    "    df = (df.drop_duplicates(subset=\"Metropolitan area\")\n",
    "          .reset_index()\n",
    "          .drop(columns=\"index\"))\n",
    "        \n",
    "\n",
    "    population_by_region,win_loss_by_region = df[\"Population\"],df[\"WL\"]\n",
    "    \n",
    "    \n",
    "    assert len(population_by_region) == len(win_loss_by_region), \"Q3: Your lists must be the same length\"\n",
    "    assert len(population_by_region) == 26, \"Q3: There should be 26 teams being analysed for MLB\"\n",
    "    return stats.pearsonr(population_by_region, win_loss_by_region)[0]"
   ]
  },
  {
   "cell_type": "code",
   "execution_count": 264,
   "id": "8bfd9ebc",
   "metadata": {},
   "outputs": [
    {
     "data": {
      "text/plain": [
       "0.14999221533065177"
      ]
     },
     "execution_count": 264,
     "metadata": {},
     "output_type": "execute_result"
    }
   ],
   "source": [
    "mlb_correlation()"
   ]
  },
  {
   "cell_type": "markdown",
   "id": "cfcdc985",
   "metadata": {},
   "source": [
    "## Question 4\n",
    "For this question, calculate the win/loss ratio's correlation with the population of the city it is in for the **NFL** using **2018** data."
   ]
  },
  {
   "cell_type": "code",
   "execution_count": 261,
   "id": "5d1c48de",
   "metadata": {},
   "outputs": [],
   "source": [
    "def nfl_correlation(): \n",
    "    import pandas as pd\n",
    "    import numpy as np\n",
    "    import scipy.stats as stats\n",
    "    import re\n",
    "    nfl_df=pd.read_csv(\"assets/nfl.csv\")\n",
    "    cities=pd.read_html(\"assets/wikipedia_data.html\")[1]\n",
    "    cities=cities.iloc[:-1,[0,3,5]]\n",
    "    \n",
    "    \n",
    "    # cleaning cities \n",
    "    cities[\"NFL\"] = cities[\"NFL\"].apply(lambda a: re.sub(r\"\\[.+\\]\", \"\", a))\n",
    "    cities[\"NFL\"] = cities[\"NFL\"].replace({\"GiantsJets\": \"Giants,Jets\",\n",
    "                                           \"RamsChargers\": \"Rams,Chargers\",\n",
    "                                           \"49ersRaiders\": \"49ers,Raiders\"\n",
    "                                           })\n",
    "    cities[\"NFL\"] = cities[\"NFL\"].apply(lambda a: a.split(\",\"))\n",
    "    cities = cities.explode(\"NFL\")\n",
    "\n",
    "    \n",
    "    \n",
    "    #cleaning nhl\n",
    "    nfl_df = nfl_df[nfl_df[\"year\"] == 2018]\n",
    "    nfl_df[\"team\"] = nfl_df[\"team\"].apply(lambda x: re.sub(r\"(\\*|\\+)\", \"\", x))\n",
    "    nfl_df[\"team\"] = nfl_df[\"team\"].apply(lambda x: x.split(\" \")[-1])\n",
    "\n",
    "    \n",
    "    \n",
    "    #merge\n",
    "    df = pd.merge(cities, nfl_df, left_on=\"NFL\", right_on=\"team\")\n",
    "    df = df[[\"Metropolitan area\", \"Population (2016 est.)[8]\", \"NFL\", \"team\", \"W\", \"L\", \"W-L%\"]]\n",
    "    df[\"Population\"] = df[\"Population (2016 est.)[8]\"].astype(\"float\")\n",
    "    df[\"WL\"] = df[\"W-L%\"].astype(\"float\")\n",
    "\n",
    "    #reapeted columns\n",
    "    df.loc[df[\"Metropolitan area\"] == \"New York City\", \"WL\"] = 0.2815\n",
    "    df.loc[df[\"Metropolitan area\"] == \"Los Angeles\", \"WL\"] = 0.7815\n",
    "    df.loc[df[\"Metropolitan area\"] == \"San Francisco Bay Area\", \"WL\"] = 0.25\n",
    "    df = (df.drop_duplicates(subset=\"Metropolitan area\")\n",
    "          .reset_index()\n",
    "          .drop(columns=\"index\"))\n",
    "\n",
    "    population_by_region,win_loss_by_region = df[\"Population\"],df[\"WL\"]\n",
    "    \n",
    "    assert len(population_by_region) == len(win_loss_by_region), \"Q4: Your lists must be the same length\"\n",
    "    assert len(population_by_region) == 29, \"Q4: There should be 29 teams being analysed for NFL\"\n",
    "    \n",
    "    return stats.pearsonr(population_by_region, win_loss_by_region)[0]\n",
    "    "
   ]
  },
  {
   "cell_type": "code",
   "execution_count": 262,
   "id": "48ad9a82",
   "metadata": {},
   "outputs": [
    {
     "data": {
      "text/plain": [
       "0.004282141436393022"
      ]
     },
     "execution_count": 262,
     "metadata": {},
     "output_type": "execute_result"
    }
   ],
   "source": [
    "nfl_correlation()\n"
   ]
  },
  {
   "cell_type": "code",
   "execution_count": null,
   "id": "4ccd566d",
   "metadata": {},
   "outputs": [],
   "source": []
  }
 ],
 "metadata": {
  "kernelspec": {
   "display_name": "Python 3 (ipykernel)",
   "language": "python",
   "name": "python3"
  },
  "language_info": {
   "codemirror_mode": {
    "name": "ipython",
    "version": 3
   },
   "file_extension": ".py",
   "mimetype": "text/x-python",
   "name": "python",
   "nbconvert_exporter": "python",
   "pygments_lexer": "ipython3",
   "version": "3.9.12"
  }
 },
 "nbformat": 4,
 "nbformat_minor": 5
}

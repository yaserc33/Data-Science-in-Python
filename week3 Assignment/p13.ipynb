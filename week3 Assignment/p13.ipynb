{
 "cells": [
  {
   "cell_type": "markdown",
   "id": "0ca64a10",
   "metadata": {},
   "source": [
    "### Question 13\n",
    "Convert the Population Estimate series to a string with thousands separator (using commas). Use all significant digits (do not round the results).\n",
    "\n",
    "e.g. 12345678.90 -> 12,345,678.90\n",
    "\n",
    "*This function should return a series `PopEst` whose index is the country name and whose values are the population estimate string*"
   ]
  },
  {
   "cell_type": "code",
   "execution_count": 8,
   "id": "c9d43d38",
   "metadata": {},
   "outputs": [],
   "source": [
    "import pandas as pd\n",
    "import numpy as np\n",
    "import re \n",
    "def answer_thirteen():\n",
    "    \n",
    "    #Energey DF\n",
    "    Energy=pd.read_excel('assets/Energy Indicators.xls',usecols='C:F',skiprows=18 ,nrows=227, header=None\n",
    "                         , names= ['Country', 'Energy Supply', 'Energy Supply per Capita', '% Renewable'])\n",
    "    Energy.replace('...',np.nan,inplace=True)\n",
    "    Energy['Country']=Energy['Country'].apply(lambda x: re.sub(r'\\([^()]*\\)|[0-9]', '', x))\n",
    "    Energy['Energy Supply']=Energy['Energy Supply']*1000000\n",
    "    Energy.replace([\"Republic of Korea\",\"United States of America\",\"United Kingdom of Great Britain and Northern Ireland\",\n",
    "                \"China, Hong Kong Special Administrative Region\",'Iran '],\n",
    "               [ \"South Korea\", \"United States\",\"United Kingdom\",\"Hong Kong\",'Iran'],\n",
    "               inplace=True)\n",
    "    #GDP DF                    \n",
    "    years=[str(x) for x in range(2006,2016)]\n",
    "    GDP=pd.read_csv('assets/world_bank.csv',skiprows=4 ,usecols=['Country Name',years[0],years[1],years[2],years[3],years[4],years[5]\n",
    "                                                             ,years[6],years[7],years[8],years[9]])\n",
    "    GDP.replace([\"Korea, Rep.\",\"Iran, Islamic Rep.\",\"Hong Kong SAR, China\"]\n",
    "            ,[\"South Korea\",\"Iran\",\"Hong Kong\"],inplace=True)\n",
    "    GDP.rename(columns={'Country Name' : 'Country'},inplace=True )\n",
    "\n",
    "    #ScimEn DF\n",
    "    ScimEn = pd.read_excel('assets/scimagojr-3.xlsx',nrows=15)\n",
    "\n",
    "    #merge\n",
    "    df = (pd.merge(ScimEn,Energy, on='Country')\n",
    "      .merge(GDP)\n",
    "      .set_index('Country'))\n",
    "    \n",
    "    #solve the question\n",
    "    \n",
    "    df['population']=df['Energy Supply']/df['Energy Supply per Capita']\n",
    "    df=df['population']\n",
    "    \n",
    "    return df.apply(lambda x: '{:,}'.format(x))"
   ]
  },
  {
   "cell_type": "code",
   "execution_count": 9,
   "id": "b2921aa0",
   "metadata": {},
   "outputs": [
    {
     "data": {
      "text/plain": [
       "Country\n",
       "China                 1,367,645,161.2903225\n",
       "United States          317,615,384.61538464\n",
       "Japan                  127,409,395.97315437\n",
       "United Kingdom         63,870,967.741935484\n",
       "Russian Federation            143,500,000.0\n",
       "Canada                  35,239,864.86486486\n",
       "Germany                 80,369,696.96969697\n",
       "India                 1,276,730,769.2307692\n",
       "France                  63,837,349.39759036\n",
       "South Korea            49,805,429.864253394\n",
       "Italy                  59,908,256.880733944\n",
       "Spain                    46,443,396.2264151\n",
       "Iran                    77,075,630.25210084\n",
       "Australia              23,316,017.316017315\n",
       "Brazil                 205,915,254.23728815\n",
       "Name: population, dtype: object"
      ]
     },
     "execution_count": 9,
     "metadata": {},
     "output_type": "execute_result"
    }
   ],
   "source": [
    "answer_thirteen()"
   ]
  },
  {
   "cell_type": "code",
   "execution_count": null,
   "id": "2cef9e3d",
   "metadata": {},
   "outputs": [],
   "source": []
  }
 ],
 "metadata": {
  "kernelspec": {
   "display_name": "Python 3 (ipykernel)",
   "language": "python",
   "name": "python3"
  },
  "language_info": {
   "codemirror_mode": {
    "name": "ipython",
    "version": 3
   },
   "file_extension": ".py",
   "mimetype": "text/x-python",
   "name": "python",
   "nbconvert_exporter": "python",
   "pygments_lexer": "ipython3",
   "version": "3.9.12"
  }
 },
 "nbformat": 4,
 "nbformat_minor": 5
}

{
 "cells": [
  {
   "cell_type": "markdown",
   "id": "5e9ce9a7",
   "metadata": {},
   "source": [
    "### Question 9\n",
    "Create a column that estimates the number of citable documents per person. \n",
    "What is the correlation between the number of citable documents per capita and the energy supply per capita? Use the `.corr()` method, (Pearson's correlation).\n",
    "\n",
    "*This function should return a single number.*\n",
    "\n",
    "*(Optional: Use the built-in function `plot9()` to visualize the relationship between Energy Supply per Capita vs. Citable docs per Capita)*"
   ]
  },
  {
   "cell_type": "code",
   "execution_count": 21,
   "id": "e72bd625",
   "metadata": {},
   "outputs": [],
   "source": [
    "def answer_nine():\n",
    "    import pandas as pd\n",
    "    import numpy as np\n",
    "    import re\n",
    "    \n",
    "    #Energey DF\n",
    "    Energy=pd.read_excel('assets/Energy Indicators.xls',usecols='C:F',skiprows=18 ,nrows=227, header=None, names= ['Country', 'Energy Supply', 'Energy Supply per Capita', '% Renewable'])\n",
    "    Energy.replace('...',np.nan,inplace=True)\n",
    "    Energy['Country']=Energy['Country'].apply(lambda x: re.sub(r'\\([^()]*\\)|[0-9]', '', x))\n",
    "    Energy['Energy Supply']=Energy['Energy Supply']*1000000\n",
    "    Energy.replace([\"Republic of Korea\",\"United States of America\",\"United Kingdom of Great Britain and Northern Ireland\",\n",
    "                \"China, Hong Kong Special Administrative Region\",'Iran '],\n",
    "               [ \"South Korea\", \"United States\",\"United Kingdom\",\"Hong Kong\",'Iran'],\n",
    "               inplace=True)\n",
    "    #GDP DF                    \n",
    "    years=[str(x) for x in range(2006,2016)]\n",
    "    GDP=pd.read_csv('assets/world_bank.csv',skiprows=4 ,usecols=['Country Name',years[0],years[1],years[2],years[3],years[4],years[5]\n",
    "                                                             ,years[6],years[7],years[8],years[9]])\n",
    "    GDP.replace([\"Korea, Rep.\",\"Iran, Islamic Rep.\",\"Hong Kong SAR, China\"]\n",
    "            ,[\"South Korea\",\"Iran\",\"Hong Kong\"],inplace=True)\n",
    "    GDP.rename(columns={'Country Name' : 'Country'},inplace=True )\n",
    "\n",
    "    #ScimEn DF\n",
    "    ScimEn = pd.read_excel('assets/scimagojr-3.xlsx',nrows=15)\n",
    "\n",
    "    #merge\n",
    "    df = (pd.merge(ScimEn,Energy, on='Country')\n",
    "      .merge(GDP)\n",
    "      .set_index('Country'))\n",
    "    \n",
    "    #solve the question\n",
    "    df['population']=df['Energy Supply']/df['Energy Supply per Capita']\n",
    "    df['citable documents per person']=df['Citable documents']/df['population']\n",
    "    \n",
    "    return df['citable documents per person'].corr(df['Energy Supply per Capita'])\n",
    "    "
   ]
  },
  {
   "cell_type": "code",
   "execution_count": 23,
   "id": "15cbc9b0",
   "metadata": {},
   "outputs": [
    {
     "data": {
      "text/plain": [
       "0.7940010435442946"
      ]
     },
     "execution_count": 23,
     "metadata": {},
     "output_type": "execute_result"
    }
   ],
   "source": [
    "answer_nine()"
   ]
  },
  {
   "cell_type": "code",
   "execution_count": null,
   "id": "7cb9501d",
   "metadata": {},
   "outputs": [],
   "source": []
  }
 ],
 "metadata": {
  "kernelspec": {
   "display_name": "Python 3 (ipykernel)",
   "language": "python",
   "name": "python3"
  },
  "language_info": {
   "codemirror_mode": {
    "name": "ipython",
    "version": 3
   },
   "file_extension": ".py",
   "mimetype": "text/x-python",
   "name": "python",
   "nbconvert_exporter": "python",
   "pygments_lexer": "ipython3",
   "version": "3.9.12"
  }
 },
 "nbformat": 4,
 "nbformat_minor": 5
}

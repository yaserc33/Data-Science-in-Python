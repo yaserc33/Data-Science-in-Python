{
 "cells": [
  {
   "cell_type": "markdown",
   "id": "e0e21042",
   "metadata": {},
   "source": [
    "## Question 1\n",
    "Load the energy data from the file `assets/Energy Indicators.xls`, which is a list of indicators of [energy supply and renewable electricity production](assets/Energy%20Indicators.xls) from the [United Nations](http://unstats.un.org/unsd/environment/excel_file_tables/2013/Energy%20Indicators.xls) for the year 2013, and should be put into a DataFrame with the variable name of **Energy**.\n",
    "\n",
    "Keep in mind that this is an Excel file, and not a comma separated values file. Also, make sure to exclude the footer and header information from the datafile. The first two columns are unneccessary, so you should get rid of them, and you should change the column labels so that the columns are:\n",
    "\n",
    "`['Country', 'Energy Supply', 'Energy Supply per Capita', '% Renewable]`\n",
    "\n",
    "Convert `Energy Supply` to gigajoules (**Note: there are 1,000,000 gigajoules in a petajoule**). For all countries which have missing data (e.g. data with \"...\") make sure this is reflected as `np.NaN` values.\n",
    "\n",
    "Rename the following list of countries (for use in later questions):\n",
    "\n",
    "```\"Republic of Korea\": \"South Korea\",\n",
    "\"United States of America\": \"United States\",\n",
    "\"United Kingdom of Great Britain and Northern Ireland\": \"United Kingdom\",\n",
    "\"China, Hong Kong Special Administrative Region\": \"Hong Kong\"```\n",
    "\n",
    "There are also several countries with numbers and/or parenthesis in their name. Be sure to remove these, e.g. `'Bolivia (Plurinational State of)'` should be `'Bolivia'`.  `'Switzerland17'` should be `'Switzerland'`.\n",
    "#############################################################################################################\n",
    "\n",
    "\n",
    "Next, load the GDP data from the file `assets/world_bank.csv`, which is a csv containing countries' GDP from 1960 to 2015 from [World Bank](http://data.worldbank.org/indicator/NY.GDP.MKTP.CD). Call this DataFrame **GDP**. \n",
    "\n",
    "Make sure to skip the header, and rename the following list of countries:\n",
    "\n",
    "```\"Korea, Rep.\": \"South Korea\", \n",
    "\"Iran, Islamic Rep.\": \"Iran\",\n",
    "\"Hong Kong SAR, China\": \"Hong Kong\"```\n",
    "###########################################################################################################\n",
    "\n",
    "Finally, load the [Sciamgo Journal and Country Rank data for Energy Engineering and Power Technology](http://www.scimagojr.com/countryrank.php?category=2102) from the file `assets/scimagojr-3.xlsx`, which ranks countries based on their journal contributions in the aforementioned area. Call this DataFrame **ScimEn**.\n",
    "\n",
    "\n",
    "###########################\n",
    "\n",
    "\n",
    "\n",
    "Join the three datasets: GDP, Energy, and ScimEn into a new dataset (using the intersection of country names). Use only the last 10 years (2006-2015) of GDP data and only the top 15 countries by Scimagojr 'Rank' (Rank 1 through 15). \n",
    "\n",
    "The index of this DataFrame should be the name of the country, and the columns should be ['Rank', 'Documents', 'Citable documents', 'Citations', 'Self-citations',\n",
    "       'Citations per document', 'H index', 'Energy Supply',\n",
    "       'Energy Supply per Capita', '% Renewable', '2006', '2007', '2008',\n",
    "       '2009', '2010', '2011', '2012', '2013', '2014', '2015'].\n",
    "\n",
    "*This function should return a DataFrame with 20 columns and 15 entries, and the rows of the DataFrame should be sorted by \"Rank\".*"
   ]
  },
  {
   "cell_type": "code",
   "execution_count": 1,
   "id": "e685128b",
   "metadata": {},
   "outputs": [],
   "source": [
    "import pandas as pd\n",
    "import numpy as np\n",
    "import re\n",
    "\n",
    "# Filter all warnings. If you would like to see the warnings, please comment the two lines below.\n",
    "import warnings\n",
    "warnings.filterwarnings('ignore')"
   ]
  },
  {
   "cell_type": "code",
   "execution_count": 85,
   "id": "bb0245de",
   "metadata": {
    "scrolled": true
   },
   "outputs": [],
   "source": [
    "import pandas as pd\n",
    "import numpy as np\n",
    "import re\n",
    "\n",
    "def answer_one():\n",
    "    \n",
    "    \n",
    "    #Energey DF\n",
    "    Energy=pd.read_excel('assets/Energy Indicators.xls',usecols='C:F',skiprows=18 ,nrows=227, header=None, names= ['Country', 'Energy Supply', 'Energy Supply per Capita', '% Renewable'])\n",
    "    Energy.replace('...',np.nan,inplace=True)\n",
    "    Energy['Country']=Energy['Country'].apply(lambda x: re.sub(r'\\([^()]*\\)|[0-9]', '', x))\n",
    "    Energy['Energy Supply']=Energy['Energy Supply']*1000000\n",
    "    Energy.replace([\"Republic of Korea\",\"United States of America\",\"United Kingdom of Great Britain and Northern Ireland\",\n",
    "                \"China, Hong Kong Special Administrative Region\",'Iran '],\n",
    "               [ \"South Korea\", \"United States\",\"United Kingdom\",\"Hong Kong\",'Iran'],\n",
    "               inplace=True)\n",
    "    \n",
    "    #GDP DF                    \n",
    "    years=[str(x) for x in range(2006,2016)]\n",
    "    GDP=pd.read_csv('assets/world_bank.csv',skiprows=4 ,usecols=['Country Name',years[0],years[1],years[2],years[3],years[4],years[5]\n",
    "                                                             ,years[6],years[7],years[8],years[9]])\n",
    "    GDP.replace([\"Korea, Rep.\",\"Iran, Islamic Rep.\",\"Hong Kong SAR, China\"]\n",
    "            ,[\"South Korea\",\"Iran\",\"Hong Kong\"],inplace=True)\n",
    "    GDP.rename(columns={'Country Name' : 'Country'},inplace=True )\n",
    "\n",
    "    #ScimEn DF\n",
    "    ScimEn = pd.read_excel('assets/scimagojr-3.xlsx',nrows=15)\n",
    "\n",
    "    #merge\n",
    "    df = (pd.merge(ScimEn,Energy, on='Country')\n",
    "      .merge(GDP)\n",
    "      .set_index('Country'))\n",
    "    return df\n"
   ]
  },
  {
   "cell_type": "code",
   "execution_count": null,
   "id": "596a3a04",
   "metadata": {},
   "outputs": [],
   "source": []
  },
  {
   "cell_type": "code",
   "execution_count": 86,
   "id": "bc68ee95",
   "metadata": {},
   "outputs": [
    {
     "data": {
      "text/plain": [
       "1"
      ]
     },
     "execution_count": 86,
     "metadata": {},
     "output_type": "execute_result"
    }
   ],
   "source": [
    "df.isnull().sum().sum()"
   ]
  },
  {
   "cell_type": "code",
   "execution_count": 81,
   "id": "7941dd49",
   "metadata": {},
   "outputs": [
    {
     "data": {
      "text/plain": [
       "'Iran '"
      ]
     },
     "execution_count": 81,
     "metadata": {},
     "output_type": "execute_result"
    }
   ],
   "source": [
    "pd.options.display.max_rows = 290"
   ]
  }
 ],
 "metadata": {
  "kernelspec": {
   "display_name": "Python 3 (ipykernel)",
   "language": "python",
   "name": "python3"
  },
  "language_info": {
   "codemirror_mode": {
    "name": "ipython",
    "version": 3
   },
   "file_extension": ".py",
   "mimetype": "text/x-python",
   "name": "python",
   "nbconvert_exporter": "python",
   "pygments_lexer": "ipython3",
   "version": "3.9.12"
  }
 },
 "nbformat": 4,
 "nbformat_minor": 5
}

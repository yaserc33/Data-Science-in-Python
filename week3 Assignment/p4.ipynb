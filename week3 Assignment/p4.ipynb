{
 "cells": [
  {
   "cell_type": "markdown",
   "id": "422f1a0a",
   "metadata": {},
   "source": [
    "### Question 4\n",
    "By how much had the GDP changed over the 10 year span for the country with the 6th largest average GDP?\n",
    "\n",
    "*This function should return a single number.*"
   ]
  },
  {
   "cell_type": "code",
   "execution_count": 61,
   "id": "aed74b25",
   "metadata": {},
   "outputs": [],
   "source": [
    "import pandas as pd\n",
    "import numpy as np\n",
    "import re\n",
    "\n",
    "def answer_four():\n",
    "     #Energey DF\n",
    "    Energy=pd.read_excel('assets/Energy Indicators.xls',usecols='C:F',skiprows=18 ,nrows=227, header=None, names= ['Country', 'Energy Supply', 'Energy Supply per Capita', '% Renewable'])\n",
    "    Energy.replace('...',np.nan,inplace=True)\n",
    "    Energy['Country']=Energy['Country'].apply(lambda x: re.sub(r'\\([^()]*\\)|[0-9]', '', x))\n",
    "    Energy['Energy Supply']=Energy['Energy Supply']*1000000\n",
    "    Energy.replace([\"Republic of Korea\",\"United States of America\",\"United Kingdom of Great Britain and Northern Ireland\",\n",
    "                \"China, Hong Kong Special Administrative Region\",'Iran '],\n",
    "               [ \"South Korea\", \"United States\",\"United Kingdom\",\"Hong Kong\",'Iran'],\n",
    "               inplace=True)\n",
    "    #GDP DF                    \n",
    "    years=[str(x) for x in range(2006,2016)]\n",
    "    GDP=pd.read_csv('assets/world_bank.csv',skiprows=4 ,usecols=['Country Name',years[0],years[1],years[2],years[3],years[4],years[5]\n",
    "                                                             ,years[6],years[7],years[8],years[9]])\n",
    "    GDP.replace([\"Korea, Rep.\",\"Iran, Islamic Rep.\",\"Hong Kong SAR, China\"]\n",
    "            ,[\"South Korea\",\"Iran\",\"Hong Kong\"],inplace=True)\n",
    "    GDP.rename(columns={'Country Name' : 'Country'},inplace=True )\n",
    "\n",
    "    #ScimEn DF\n",
    "    ScimEn = pd.read_excel('assets/scimagojr-3.xlsx',nrows=15)\n",
    "\n",
    "    #merge\n",
    "    df = (pd.merge(ScimEn,Energy, on='Country')\n",
    "      .merge(GDP)\n",
    "      .set_index('Country'))\n",
    "    \n",
    "    #sol\n",
    "    avgGDP = df[years].T.mean().sort_values(ascending=False)\n",
    "    \n",
    "    \n",
    "    df['mean'] = df[years].T.mean()\n",
    "    df.sort_values(by=['mean'],ascending=False,inplace=True)\n",
    "    \n",
    "\n",
    "    return df.iloc[5]['2015']-df.iloc[5]['2006']"
   ]
  },
  {
   "cell_type": "code",
   "execution_count": 52,
   "id": "6b0d3cf2",
   "metadata": {},
   "outputs": [
    {
     "data": {
      "text/plain": [
       "246702696075.3999"
      ]
     },
     "execution_count": 52,
     "metadata": {},
     "output_type": "execute_result"
    }
   ],
   "source": [
    "answer_four()"
   ]
  },
  {
   "cell_type": "code",
   "execution_count": 34,
   "id": "9cb3bf12",
   "metadata": {},
   "outputs": [],
   "source": [
    "    years=[str(x) for x in range(2006,2016)]\n",
    "    GDP=pd.read_csv('assets/world_bank.csv',skiprows=4 ,usecols=['Country Name',years[0],years[1],years[2],years[3],years[4],years[5]\n",
    "                                                             ,years[6],years[7],years[8],years[9]])\n",
    "    GDP.replace([\"Korea, Rep.\",\"Iran, Islamic Rep.\",\"Hong Kong SAR, China\"]\n",
    "            ,[\"South Korea\",\"Iran\",\"Hong Kong\"],inplace=True)\n",
    "    GDP.rename(columns={'Country Name' : 'Country'},inplace=True )\n",
    "    GDP.set_index(['Country'],inplace=True)\n",
    "\n",
    "   \n",
    "    GDP['mean'] = GDP[years].T.mean()\n",
    "    GDP.sort_values(by=['mean'],ascending=False,inplace=True)"
   ]
  },
  {
   "cell_type": "code",
   "execution_count": 67,
   "id": "6a3edd97",
   "metadata": {},
   "outputs": [
    {
     "data": {
      "text/plain": [
       "Country\n",
       "United States         1.479230e+13\n",
       "China                 3.992331e+12\n",
       "Japan                 5.496542e+12\n",
       "Germany               3.332891e+12\n",
       "France                2.607840e+12\n",
       "United Kingdom        2.419631e+12\n",
       "Brazil                1.845080e+12\n",
       "Italy                 2.202170e+12\n",
       "India                 1.265894e+12\n",
       "Canada                1.564469e+12\n",
       "Russian Federation    1.385793e+12\n",
       "Spain                 1.414823e+12\n",
       "Australia             1.021939e+12\n",
       "South Korea           9.410199e+11\n",
       "Iran                  3.895523e+11\n",
       "Name: 2006, dtype: float64"
      ]
     },
     "execution_count": 67,
     "metadata": {},
     "output_type": "execute_result"
    }
   ],
   "source": [
    "answer_four()['2006']"
   ]
  },
  {
   "cell_type": "code",
   "execution_count": 68,
   "id": "18312435",
   "metadata": {},
   "outputs": [
    {
     "data": {
      "text/plain": [
       "246702000000.0"
      ]
     },
     "execution_count": 68,
     "metadata": {},
     "output_type": "execute_result"
    }
   ],
   "source": [
    "2.666333e+12-2.419631e+12"
   ]
  },
  {
   "cell_type": "code",
   "execution_count": null,
   "id": "82092864",
   "metadata": {},
   "outputs": [],
   "source": []
  }
 ],
 "metadata": {
  "kernelspec": {
   "display_name": "Python 3 (ipykernel)",
   "language": "python",
   "name": "python3"
  },
  "language_info": {
   "codemirror_mode": {
    "name": "ipython",
    "version": 3
   },
   "file_extension": ".py",
   "mimetype": "text/x-python",
   "name": "python",
   "nbconvert_exporter": "python",
   "pygments_lexer": "ipython3",
   "version": "3.9.12"
  }
 },
 "nbformat": 4,
 "nbformat_minor": 5
}

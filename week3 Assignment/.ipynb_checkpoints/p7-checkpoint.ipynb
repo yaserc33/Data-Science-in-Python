{
 "cells": [
  {
   "cell_type": "markdown",
   "id": "d959b1a9",
   "metadata": {},
   "source": [
    "### Question 7\n",
    "Create a new column that is the ratio of Self-Citations to Total Citations. \n",
    "What is the maximum value for this new column, and what country has the highest ratio?\n",
    "\n",
    "*This function should return a tuple with the name of the country and the ratio.*"
   ]
  },
  {
   "cell_type": "code",
   "execution_count": 36,
   "id": "17099825",
   "metadata": {},
   "outputs": [],
   "source": [
    "def answer_seven():\n",
    "    import pandas as pd\n",
    "    import numpy as np\n",
    "    import re\n",
    "    \n",
    "    #Energey DF\n",
    "    Energy=pd.read_excel('assets/Energy Indicators.xls',usecols='C:F',skiprows=18 ,nrows=227, header=None, names= ['Country', 'Energy Supply', 'Energy Supply per Capita', '% Renewable'])\n",
    "    Energy.replace('...',np.nan,inplace=True)\n",
    "    Energy['Country']=Energy['Country'].apply(lambda x: re.sub(r'\\([^()]*\\)|[0-9]', '', x))\n",
    "    Energy['Energy Supply']=Energy['Energy Supply']*1000000\n",
    "    Energy.replace([\"Republic of Korea\",\"United States of America\",\"United Kingdom of Great Britain and Northern Ireland\",\n",
    "                \"China, Hong Kong Special Administrative Region\",'Iran '],\n",
    "               [ \"South Korea\", \"United States\",\"United Kingdom\",\"Hong Kong\",'Iran'],\n",
    "               inplace=True)\n",
    "    #GDP DF                    \n",
    "    years=[str(x) for x in range(2006,2016)]\n",
    "    GDP=pd.read_csv('assets/world_bank.csv',skiprows=4 ,usecols=['Country Name',years[0],years[1],years[2],years[3],years[4],years[5]\n",
    "                                                             ,years[6],years[7],years[8],years[9]])\n",
    "    GDP.replace([\"Korea, Rep.\",\"Iran, Islamic Rep.\",\"Hong Kong SAR, China\"]\n",
    "            ,[\"South Korea\",\"Iran\",\"Hong Kong\"],inplace=True)\n",
    "    GDP.rename(columns={'Country Name' : 'Country'},inplace=True )\n",
    "\n",
    "    #ScimEn DF\n",
    "    ScimEn = pd.read_excel('assets/scimagojr-3.xlsx',nrows=15)\n",
    "\n",
    "    #merge\n",
    "    df = (pd.merge(ScimEn,Energy, on='Country')\n",
    "      .merge(GDP)\n",
    "      .set_index('Country'))\n",
    "    \n",
    "    #solve the question\n",
    "    r=df[['Citations', 'Self-citations']]\n",
    "    r['rtio']=r['Self-citations']/r['Citations']\n",
    "    r= r['rtio'].sort_values()\n",
    "    return (r.index[-1],r[-1])"
   ]
  },
  {
   "cell_type": "code",
   "execution_count": 37,
   "id": "57452fee",
   "metadata": {},
   "outputs": [
    {
     "name": "stderr",
     "output_type": "stream",
     "text": [
      "C:\\Users\\Yaser\\AppData\\Local\\Temp\\ipykernel_20180\\226424476.py:33: SettingWithCopyWarning: \n",
      "A value is trying to be set on a copy of a slice from a DataFrame.\n",
      "Try using .loc[row_indexer,col_indexer] = value instead\n",
      "\n",
      "See the caveats in the documentation: https://pandas.pydata.org/pandas-docs/stable/user_guide/indexing.html#returning-a-view-versus-a-copy\n",
      "  r['rtio']=r['Self-citations']/r['Citations']\n"
     ]
    },
    {
     "data": {
      "text/plain": [
       "('China', 0.6893126179389422)"
      ]
     },
     "execution_count": 37,
     "metadata": {},
     "output_type": "execute_result"
    }
   ],
   "source": [
    "answer_seven()\n"
   ]
  },
  {
   "cell_type": "code",
   "execution_count": null,
   "id": "253e0f42",
   "metadata": {},
   "outputs": [],
   "source": []
  }
 ],
 "metadata": {
  "kernelspec": {
   "display_name": "Python 3 (ipykernel)",
   "language": "python",
   "name": "python3"
  },
  "language_info": {
   "codemirror_mode": {
    "name": "ipython",
    "version": 3
   },
   "file_extension": ".py",
   "mimetype": "text/x-python",
   "name": "python",
   "nbconvert_exporter": "python",
   "pygments_lexer": "ipython3",
   "version": "3.9.12"
  }
 },
 "nbformat": 4,
 "nbformat_minor": 5
}
